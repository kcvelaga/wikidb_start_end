{
 "cells": [
  {
   "cell_type": "code",
   "execution_count": null,
   "id": "4c179b01-2da6-4991-a39b-d521715f1c20",
   "metadata": {},
   "outputs": [],
   "source": []
  },
  {
   "cell_type": "markdown",
   "id": "27f32be8-ae6d-4766-a209-7915fb5aefb1",
   "metadata": {
    "tags": []
   },
   "source": [
    "## wiki closure date\n",
    "(under construction)"
   ]
  },
  {
   "cell_type": "code",
   "execution_count": null,
   "id": "33b90915-b743-47ed-920e-0b5048018d63",
   "metadata": {},
   "outputs": [],
   "source": [
    "closed_content_wikis = public_content_dbs.query(\"\"\"status == 'closed'\"\"\")"
   ]
  },
  {
   "cell_type": "code",
   "execution_count": null,
   "id": "88b45d92-152a-43c4-b80f-2cd82058fe61",
   "metadata": {},
   "outputs": [],
   "source": [
    "closed_content_wikis.git_closed_dt.value_counts()"
   ]
  },
  {
   "cell_type": "code",
   "execution_count": null,
   "id": "e0f1b57e-8117-4051-92b0-a88fcf66b0d2",
   "metadata": {},
   "outputs": [],
   "source": [
    "db_group_prefix_map = {'wikipedia': 'Wp',   \n",
    "                       'wikibooks': 'Wb',\n",
    "                       'wiktionary': 'Wt', \n",
    "                       'wikiquote': 'Wq', \n",
    "                       'wikisource': 'Ws',\n",
    "                       'wikinews': 'Wn',\n",
    "                       'wikivoyage': 'Wy',\n",
    "                       'wikiversity': 'Wv'}"
   ]
  },
  {
   "cell_type": "code",
   "execution_count": null,
   "id": "d6bffa35-fee9-4667-a878-21acb268e15a",
   "metadata": {},
   "outputs": [],
   "source": [
    "def generate_prefix(db_group, language_code, prefix_map=db_group_prefix_map):\n",
    "    return f'{db_group_prefix_map[db_group]}/{language_code}'"
   ]
  },
  {
   "cell_type": "code",
   "execution_count": null,
   "id": "0239a836-dead-4422-a090-c02ab7227bd6",
   "metadata": {},
   "outputs": [],
   "source": [
    "closed_content_wikis['prefix'] = closed_content_wikis[['database_group', 'language_code']].apply(lambda x:generate_prefix(x.database_group, x.language_code), axis=1)"
   ]
  },
  {
   "cell_type": "code",
   "execution_count": null,
   "id": "20bc22a0-b61f-49a5-adfc-0e2f3ca2307f",
   "metadata": {},
   "outputs": [],
   "source": [
    "import_log_query = \"\"\"\n",
    "WITH \n",
    "    logs AS (\n",
    "        SELECT \n",
    "            log_id,\n",
    "            log_timestamp,\n",
    "            log_title,\n",
    "            REGEXP_SUBSTR(log_title, 'W[a-z]/[a-z]+') AS prefix\n",
    "        FROM \n",
    "            logging\n",
    "        WHERE \n",
    "            log_type = 'import'\n",
    "        HAVING\n",
    "            REGEXP_SUBSTR(log_title, 'W[a-z]/[a-z]+') IN {CLOSED_DBS}),\n",
    "    \n",
    "    first_log AS (\n",
    "        SELECT\n",
    "            MIN(log_timestamp) AS log_timestamp,\n",
    "            prefix\n",
    "        FROM\n",
    "            logs\n",
    "        GROUP BY\n",
    "            prefix)\n",
    "    \n",
    "SELECT\n",
    "    prefix,\n",
    "    CONCAT(YEAR(log_timestamp), '-', MONTH(log_timestamp), '-', DAY(log_timestamp)) AS first_log_timestamp\n",
    "FROM \n",
    "    first_log\n",
    "\"\"\"\n",
    "\n",
    "incubator_import_log = wmf.mariadb.run(import_log_query.format(CLOSED_DBS=sql_tuple(closed_content_wikis.prefix.values)), dbs='incubatorwiki')\n",
    "incubator_import_log.head()"
   ]
  },
  {
   "cell_type": "code",
   "execution_count": null,
   "id": "0d88502a-e824-4017-899a-b462cdd27c68",
   "metadata": {},
   "outputs": [],
   "source": [
    "incubator_import_log.shape"
   ]
  },
  {
   "cell_type": "code",
   "execution_count": null,
   "id": "352c84b7-8eae-4850-a963-510ce50d9451",
   "metadata": {},
   "outputs": [],
   "source": [
    "closed_content_wikis = pd.merge(closed_content_wikis, incubator_import_log, on='prefix', how='left')\n",
    "closed_content_wikis.head()"
   ]
  },
  {
   "cell_type": "code",
   "execution_count": null,
   "id": "8c32f1fb-a78c-4201-a60d-9fce415d8724",
   "metadata": {},
   "outputs": [],
   "source": [
    "close_missing = closed_content_wikis[closed_content_wikis.first_log_timestamp.isna()]\n",
    "close_missing"
   ]
  },
  {
   "cell_type": "code",
   "execution_count": null,
   "id": "dbc313a0-5113-44f0-bf3c-a5e33f4f5733",
   "metadata": {},
   "outputs": [],
   "source": [
    "response = requests.get('https://meta.wikimedia.org/wiki/Stewards/Former_stewards')\n",
    "soup = BeautifulSoup(response.text, 'html.parser')"
   ]
  },
  {
   "cell_type": "code",
   "execution_count": null,
   "id": "84d29def-2cbb-4552-846b-03fad3ddc7a9",
   "metadata": {},
   "outputs": [],
   "source": [
    "former_stewards = pd.read_html(str(soup.find('table', {'class': 'sortable'})))[0]"
   ]
  },
  {
   "cell_type": "code",
   "execution_count": null,
   "id": "2a4a5349-b71e-4d17-9947-2ee3b9c7d61b",
   "metadata": {},
   "outputs": [],
   "source": [
    "closed_content_wikis.shape"
   ]
  },
  {
   "cell_type": "code",
   "execution_count": null,
   "id": "1f5c3c36-a7cc-4f92-a240-bf2f7965d568",
   "metadata": {
    "tags": []
   },
   "outputs": [],
   "source": [
    "current_stewards = wmf.mariadb.run(\"\"\"\n",
    "SELECT *\n",
    "FROM global_user_groups ug\n",
    "JOIN globaluser u\n",
    "ON u.gu_id = ug.gug_user\n",
    "WHERE gug_group = 'steward'\n",
    "\n",
    "\n",
    "\"\"\", ['centralauth'], use_x1=True)"
   ]
  },
  {
   "cell_type": "code",
   "execution_count": null,
   "id": "e579ca35-03cd-4261-a9f1-65c32b41ab91",
   "metadata": {},
   "outputs": [],
   "source": [
    "stewards = former_stewards.Username.values.tolist() + current_stewards.gu_name.values.tolist()"
   ]
  },
  {
   "cell_type": "code",
   "execution_count": null,
   "id": "9a30e962-dee4-457f-b83b-63497a13ded7",
   "metadata": {},
   "outputs": [],
   "source": [
    "stewards_sql = sql_tuple(stewards)"
   ]
  },
  {
   "cell_type": "code",
   "execution_count": null,
   "id": "7da2b294-3e0e-49b2-a80a-6a1feb21b9d3",
   "metadata": {
    "tags": []
   },
   "outputs": [],
   "source": [
    "df = wmf.mariadb.run(f\"\"\"\n",
    "WITH max_time AS (SELECT MAX(rev_timestamp) AS timestamp\n",
    "FROM revision r\n",
    "JOIN actor a\n",
    "ON r.rev_actor = a.actor_id\n",
    "WHERE NOT (actor_name IN {stewards_sql} OR actor_name IN ('Flow talk page manager', 'Global rename script', 'MediaWiki message delivery', 'Maintenance script')))\n",
    "\n",
    "SELECT * FROM revision r\n",
    "JOIN actor a ON r.rev_actor = a.actor_id\n",
    "JOIN max_time m WHERE r.rev_timestamp = m.timestamp\n",
    "\n",
    "\n",
    "\"\"\", ['abwiktionary'])\n",
    "\n",
    "\n",
    "df\n",
    "\n",
    "\n"
   ]
  },
  {
   "cell_type": "code",
   "execution_count": null,
   "id": "8f6b22ae-79e8-4d47-b68c-c2e798725569",
   "metadata": {},
   "outputs": [],
   "source": [
    "warnings.filterwarnings('ignore')\n",
    "df = wmf.mariadb.run(f\"\"\"\n",
    "SELECT *, MAX(rev_timestamp) AS timestamp\n",
    "FROM revision r\n",
    "JOIN actor a\n",
    "ON r.rev_actor = a.actor_id\n",
    "WHERE actor_name NOT IN {stewards_sql}\n",
    "\n",
    "\n",
    "\"\"\", close_missing.database_code.values.tolist())\n",
    "\n",
    "df['wiki_db'] = close_missing.database_code.values.tolist()\n",
    "df\n",
    "\n",
    "\n"
   ]
  },
  {
   "cell_type": "code",
   "execution_count": null,
   "id": "dd18f49a-f795-412b-be46-f0f7904160f0",
   "metadata": {},
   "outputs": [],
   "source": []
  },
  {
   "cell_type": "code",
   "execution_count": null,
   "id": "7290a625-3fee-49e2-9a43-4c4a2703fbe5",
   "metadata": {},
   "outputs": [],
   "source": [
    "df.actor_name.unique()"
   ]
  }
 ],
 "metadata": {
  "kernelspec": {
   "display_name": "Python 3 (ipykernel)",
   "language": "python",
   "name": "python3"
  },
  "language_info": {
   "codemirror_mode": {
    "name": "ipython",
    "version": 3
   },
   "file_extension": ".py",
   "mimetype": "text/x-python",
   "name": "python",
   "nbconvert_exporter": "python",
   "pygments_lexer": "ipython3",
   "version": "3.10.8"
  }
 },
 "nbformat": 4,
 "nbformat_minor": 5
}
